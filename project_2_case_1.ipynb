{
 "cells": [
  {
   "cell_type": "code",
   "execution_count": 10,
   "metadata": {},
   "outputs": [],
   "source": [
    "#Project 2, Case 1\n",
    "import matplotlib.pyplot as plt\n",
    "import numpy as np\n",
    "import math as m"
   ]
  },
  {
   "cell_type": "code",
   "execution_count": 11,
   "metadata": {},
   "outputs": [],
   "source": [
    "#Bottom Wall Prescribed Temperature\n",
    "T_b = 250"
   ]
  },
  {
   "cell_type": "code",
   "execution_count": 12,
   "metadata": {},
   "outputs": [],
   "source": [
    "#Physical Constants of the System\n",
    "w = 0.1\n",
    "l = 0.1\n",
    "k = 10\n",
    "q = 1.5e3"
   ]
  },
  {
   "cell_type": "code",
   "execution_count": 13,
   "metadata": {},
   "outputs": [],
   "source": [
    "#Additional Variables\n",
    "xdiv = 100\n",
    "ydiv = 100\n",
    "dx = l/(xdiv-1)\n",
    "dy = w/(ydiv-1)\n",
    "x = np.linspace(0,l,xdiv)\n",
    "y = np.linspace(0,w,ydiv)"
   ]
  },
  {
   "cell_type": "code",
   "execution_count": 14,
   "metadata": {},
   "outputs": [],
   "source": [
    "#Make an empty coefficient matrix\n",
    "A = np.zeros(shape=(xdiv*ydiv, xdiv*ydiv))\n",
    "#Make an empty vector\n",
    "B = np.zeros(shape=(xdiv*ydiv, 1))"
   ]
  },
  {
   "cell_type": "code",
   "execution_count": 15,
   "metadata": {},
   "outputs": [],
   "source": [
    "indices = []\n",
    "for i in range(xdiv*ydiv):\n",
    "    indices.append(i+1)\n",
    "for i in indices:\n",
    "    if i==1: #top left\n",
    "        B[i-1] = 2*q*dx/k\n",
    "        A[i-1,i-1] = 4\n",
    "        A[i-1,i] = -2\n",
    "        A[i-1,i+xdiv-1] = -2\n",
    "    elif i == xdiv: #top right\n",
    "        B[i-1] = 2*q*dx/k\n",
    "        A[i-1,i-1] = 4\n",
    "        A[i-1,i-2] = -2\n",
    "        A[i-1,i+xdiv-1] = -2\n",
    "    elif i < xdiv: #top wall\n",
    "        B[i-1] = 2*q*dx/k\n",
    "        A[i-1,i-1] = 4\n",
    "        A[i-1,i] = -1\n",
    "        A[i-1,i-2] = -1\n",
    "        A[i-1,i+xdiv-1] = -2\n",
    "    elif i <= xdiv:\n",
    "        A[i-1,i-1] = 1\n",
    "        B[i-1] = 2*q*dx/k\n",
    "    elif i >= ((xdiv*ydiv)-(xdiv)+1):\n",
    "        A[i-1,i-1] = 1\n",
    "        B[i-1] = T_b\n",
    "    elif i%xdiv == 0:\n",
    "        A[i-1,i-1] = 4\n",
    "        A[i-1,i-2] = -2\n",
    "        A[i-1,i-xdiv-1] = -1\n",
    "        A[i-1,i+xdiv-1] = -1\n",
    "        B[i-1] = 0\n",
    "    elif (i-1)%xdiv == 0:\n",
    "        A[i-1,i-1]=4\n",
    "        A[i-1,i] = -2\n",
    "        A[i-1,i-xdiv-1] = -1\n",
    "        A[i-1,i+xdiv-1] = -1\n",
    "    else: #interor\n",
    "        B[i-1]=0\n",
    "        A[i-1,i-1]=4\n",
    "        A[i-1,i]=-1\n",
    "        A[i-1,i-2]=-1\n",
    "        A[i-1,i+xdiv-1]=-1\n",
    "        A[i-1,i-xdiv-1]=-1"
   ]
  },
  {
   "cell_type": "code",
   "execution_count": 16,
   "metadata": {},
   "outputs": [
    {
     "name": "stdout",
     "output_type": "stream",
     "text": [
      "[[250.         250.         250.         ... 250.         250.\n",
      "  250.        ]\n",
      " [250.15151515 250.15151515 250.15151515 ... 250.15151515 250.15151515\n",
      "  250.15151515]\n",
      " [250.3030303  250.3030303  250.3030303  ... 250.3030303  250.3030303\n",
      "  250.3030303 ]\n",
      " ...\n",
      " [264.6969697  264.6969697  264.6969697  ... 264.6969697  264.6969697\n",
      "  264.6969697 ]\n",
      " [264.84848485 264.84848485 264.84848485 ... 264.84848485 264.84848485\n",
      "  264.84848485]\n",
      " [265.         265.         265.         ... 265.         265.\n",
      "  265.        ]]\n"
     ]
    }
   ],
   "source": [
    "#Find the vector C such that AC=B\n",
    "C = np.linalg.solve(A,B)\n",
    "#Rearrange into a 100x100 matrix\n",
    "D = np.resize(C,(xdiv,ydiv))\n",
    "#Flip the matrix to the correct orientation\n",
    "D = np.flipud(D)\n",
    "print(D)"
   ]
  },
  {
   "cell_type": "code",
   "execution_count": 17,
   "metadata": {},
   "outputs": [
    {
     "data": {
      "text/plain": [
       "Text(0.5, 1.0, '100 x 100 Grid FDM Solution, Case 1')"
      ]
     },
     "execution_count": 17,
     "metadata": {},
     "output_type": "execute_result"
    },
    {
     "data": {
      "image/png": "[encoded data removed]",
      "text/plain": [
       "<Figure size 432x288 with 2 Axes>"
      ]
     },
     "metadata": {
      "needs_background": "light"
     },
     "output_type": "display_data"
    }
   ],
   "source": [
    "#Make a 2D Contour Plot\n",
    "plt.contour(x,y,D)\n",
    "ax = plt.gca()\n",
    "ax.set_aspect('equal')\n",
    "plt.xlabel('x (m)')\n",
    "plt.ylabel('y (m)')\n",
    "plt.colorbar()\n",
    "plt.title('100 x 100 Grid FDM Solution, Case 1')"
   ]
  },
  {
   "cell_type": "code",
   "execution_count": null,
   "metadata": {},
   "outputs": [],
   "source": []
  }
 ],
 "metadata": {
  "kernelspec": {
   "display_name": "Python 3",
   "language": "python",
   "name": "python3"
  },
  "language_info": {
   "codemirror_mode": {
    "name": "ipython",
    "version": 3
   },
   "file_extension": ".py",
   "mimetype": "text/x-python",
   "name": "python",
   "nbconvert_exporter": "python",
   "pygments_lexer": "ipython3",
   "version": "3.6.7"
  }
 },
 "nbformat": 4,
 "nbformat_minor": 2
}
