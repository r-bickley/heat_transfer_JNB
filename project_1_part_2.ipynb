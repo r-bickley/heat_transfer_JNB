{
 "cells": [
  {
   "cell_type": "code",
   "execution_count": 1,
   "metadata": {},
   "outputs": [],
   "source": [
    "#Project 1, Part 2\n",
    "import matplotlib.pyplot as plt\n",
    "import numpy as np\n",
    "import math as m"
   ]
  },
  {
   "cell_type": "code",
   "execution_count": 49,
   "metadata": {},
   "outputs": [],
   "source": [
    "#Define Prescribed Temperatures\n",
    "T_t = 1000\n",
    "T_b = 350"
   ]
  },
  {
   "cell_type": "code",
   "execution_count": 50,
   "metadata": {},
   "outputs": [],
   "source": [
    "#Define Dimensions\n",
    "w = 0.1\n",
    "l = 0.1"
   ]
  },
  {
   "cell_type": "code",
   "execution_count": 51,
   "metadata": {},
   "outputs": [],
   "source": [
    "#Define the number of x & y divisions\n",
    "xdiv = 4\n",
    "ydiv = 4\n",
    "#Define linear spaces for x and y\n",
    "x = np.linspace(0,l,xdiv)\n",
    "y = np.linspace(0,w,ydiv)"
   ]
  },
  {
   "cell_type": "code",
   "execution_count": 52,
   "metadata": {},
   "outputs": [],
   "source": [
    "#Make an empty coefficient matrix\n",
    "A = np.zeros(shape=(xdiv*ydiv, xdiv*ydiv))\n",
    "#Make an empty vector\n",
    "B = np.zeros(shape=(xdiv*ydiv, 1))"
   ]
  },
  {
   "cell_type": "code",
   "execution_count": 53,
   "metadata": {},
   "outputs": [],
   "source": [
    "#Assign values to the empty matrix and vector for each node\n",
    "#Checks for an edge condition, where the value is directly assigned\n",
    "#If not, applies the finite difference method, eqn. 4.29\n",
    "for i in range(xdiv*ydiv):\n",
    "    if i <= xdiv:\n",
    "        A[i,i] = 1\n",
    "        B[i,0] = T_t\n",
    "    elif i >= ((xdiv*ydiv)-(xdiv)+1):\n",
    "        A[i,i] = 1\n",
    "        B[i,0] = T_b\n",
    "    elif (i%xdiv) == 0:\n",
    "        A[i,i] = 1\n",
    "        B[i,0] = T_b\n",
    "    elif ((i-1)%xdiv) == 0:\n",
    "        A[i,i] = 1\n",
    "        B[i,0] = T_b\n",
    "    else:\n",
    "        B[i,0]=0\n",
    "        A[i,i]=4\n",
    "        A[i,i+1]=-1\n",
    "        A[i,i-1]=-1\n",
    "        A[i,i+xdiv]=-1\n",
    "        A[i,i-xdiv]=-1"
   ]
  },
  {
   "cell_type": "code",
   "execution_count": 54,
   "metadata": {},
   "outputs": [
    {
     "name": "stdout",
     "output_type": "stream",
     "text": [
      "[[ 350.    350.    350.    350.  ]\n",
      " [ 350.    350.    431.25  431.25]\n",
      " [1000.    350.    593.75  593.75]\n",
      " [1000.   1000.   1000.   1000.  ]]\n"
     ]
    }
   ],
   "source": [
    "#Find the vector C such that AC=B\n",
    "C = np.linalg.solve(A,B)\n",
    "#Rearrange into a 4x4 matrix\n",
    "D = np.resize(C,(4,4))\n",
    "#Flip the matrix to the correct orientation\n",
    "D = np.flipud(D)\n",
    "print(D)"
   ]
  },
  {
   "cell_type": "code",
   "execution_count": 56,
   "metadata": {},
   "outputs": [
    {
     "data": {
      "text/plain": [
       "Text(0.5, 1.0, '4 x 4 Grid FDM Solution')"
      ]
     },
     "execution_count": 56,
     "metadata": {},
     "output_type": "execute_result"
    },
    {
     "data": {
      "image/png": "[encoded data removed]",
      "text/plain": [
       "<Figure size 432x288 with 2 Axes>"
      ]
     },
     "metadata": {
      "needs_background": "light"
     },
     "output_type": "display_data"
    }
   ],
   "source": [
    "#Make a 2D Contour Plot\n",
    "plt.contour(x,y,D)\n",
    "ax = plt.gca()\n",
    "ax.set_aspect('equal')\n",
    "plt.xlabel('x (m)')\n",
    "plt.ylabel('y (m)')\n",
    "plt.colorbar()\n",
    "plt.title('4 x 4 Grid FDM Solution')"
   ]
  },
  {
   "cell_type": "code",
   "execution_count": null,
   "metadata": {},
   "outputs": [],
   "source": []
  }
 ],
 "metadata": {
  "kernelspec": {
   "display_name": "Python 3",
   "language": "python",
   "name": "python3"
  },
  "language_info": {
   "codemirror_mode": {
    "name": "ipython",
    "version": 3
   },
   "file_extension": ".py",
   "mimetype": "text/x-python",
   "name": "python",
   "nbconvert_exporter": "python",
   "pygments_lexer": "ipython3",
   "version": "3.6.7"
  }
 },
 "nbformat": 4,
 "nbformat_minor": 2
}
