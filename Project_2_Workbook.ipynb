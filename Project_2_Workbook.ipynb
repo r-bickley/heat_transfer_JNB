{
 "cells": [
  {
   "cell_type": "code",
   "execution_count": 8,
   "metadata": {},
   "outputs": [],
   "source": [
    "import numpy as np\n",
    "import matplotlib.pyplot as plt\n",
    "import math as m"
   ]
  },
  {
   "cell_type": "markdown",
   "metadata": {},
   "source": [
    "**Project 2, ME 3242**\n",
    "\n",
    "The plate is still a 10*cm* x 10*cm* 2D plate with a thermal conductivity of: $$k = 100 \\frac{W}{mK}$$ The plate is still at steady state. However the boundary conditions are different. Use the 100 x 100 grid model you built in part 3 of project 1 and revise it for these 2 cases. For each case plot each as you did in project 1.\n",
    "(You will want to refer to Table 4.2 in the text to build your FDM matrix.)\n",
    "\n",
    "**Case 1:**\n",
    "\n",
    "    Top Wall: Constant Heat Flux, q''=1.5 kW/m^2\n",
    "    Bottom Wall: Constant Temperature 250K\n",
    "    Left Wall: Adiabatic\n",
    "    Right Wall: Adiabatic\n",
    "    \n",
    "**Case 2:**\n",
    "\n",
    "    Top Wall: Adiabatic\n",
    "    Bottom Wall: Adiabatic\n",
    "    Left Wall: Convective Wall h = 100 W/(m^2K), T_infinity = 550K\n",
    "    Right Wall: Constant Temperature 300K"
   ]
  },
  {
   "cell_type": "code",
   "execution_count": 4,
   "metadata": {},
   "outputs": [],
   "source": [
    "p1 = np.genfromtxt('proj_2_case_1.csv', delimiter=',')\n",
    "p2 = np.genfromtxt('proj_2_case_2.csv', delimiter=',')\n",
    "threshold = 0.01"
   ]
  },
  {
   "cell_type": "code",
   "execution_count": 9,
   "metadata": {},
   "outputs": [],
   "source": [
    "def check_soln(response,key):\n",
    "    if response.shape != key.shape:\n",
    "        print('The dimensions of your solution are incorrect. Please revisit the problem statement and confirm that you have chosen the correct mesh size.')\n",
    "    correct = True\n",
    "    for i in range(len(response)):\n",
    "        for j in range(len(response[i])):\n",
    "            if abs((response[i][j]-key[i][j])/key[i][j]) > threshold:\n",
    "                correct = False\n",
    "    if correct == True:\n",
    "        print('The solution is correct!')\n",
    "    else:\n",
    "        print('The solution has the correct dimensions, but one or more temperature values are incorrect.')"
   ]
  },
  {
   "cell_type": "markdown",
   "metadata": {},
   "source": [
    "**Case 1**\n",
    "\n",
    "Create a 100 x 100 point grid and use the Finite Difference Method to solve for the temperature distribution. Make a clearly labeled plot contour lines (in Kelvin) for the plate with the specified boundary conditions.\n",
    "\n",
    "**Implement your code in the cell below, and use the check_soln() function to confirm that your answer is correct. Label your plot and title it \"Case 1, 100 x 100 Grid FDM Solution\". What is the temperature at the very center of the square grid in Case 1?**"
   ]
  },
  {
   "cell_type": "code",
   "execution_count": null,
   "metadata": {},
   "outputs": [],
   "source": []
  },
  {
   "cell_type": "code",
   "execution_count": 15,
   "metadata": {},
   "outputs": [
    {
     "ename": "NameError",
     "evalue": "name 'your_temperature_matrix_name_here' is not defined",
     "output_type": "error",
     "traceback": [
      "\u001b[0;31m---------------------------------------------------------------------------\u001b[0m",
      "\u001b[0;31mNameError\u001b[0m                                 Traceback (most recent call last)",
      "\u001b[0;32m<ipython-input-15-ae037e02eb68>\u001b[0m in \u001b[0;36m<module>\u001b[0;34m\u001b[0m\n\u001b[1;32m      1\u001b[0m \u001b[0;31m#Check your solution by comparing your temperature matrix to the correct answer\u001b[0m\u001b[0;34m\u001b[0m\u001b[0;34m\u001b[0m\u001b[0;34m\u001b[0m\u001b[0m\n\u001b[0;32m----> 2\u001b[0;31m \u001b[0mprint\u001b[0m\u001b[0;34m(\u001b[0m\u001b[0mcheck_soln\u001b[0m\u001b[0;34m(\u001b[0m\u001b[0myour_temperature_matrix_name_here\u001b[0m\u001b[0;34m,\u001b[0m \u001b[0mp1\u001b[0m\u001b[0;34m)\u001b[0m\u001b[0;34m)\u001b[0m\u001b[0;34m\u001b[0m\u001b[0;34m\u001b[0m\u001b[0m\n\u001b[0m",
      "\u001b[0;31mNameError\u001b[0m: name 'your_temperature_matrix_name_here' is not defined"
     ]
    }
   ],
   "source": [
    "#Check your solution by comparing your temperature matrix to the correct answer\n",
    "print(check_soln(your_temperature_matrix_name_here, p1))"
   ]
  },
  {
   "cell_type": "markdown",
   "metadata": {},
   "source": [
    "**Case 2**\n",
    "\n",
    "Create a 100 x 100 point grid and use the Finite Difference Method to solve for the temperature distribution. Make a clearly labeled plot contour lines (in Kelvin) for the plate with the specified boundary conditions.\n",
    "\n",
    "**Implement your code in the cell below, and use the check_soln() function to confirm that your answer is correct. Label your plot and title it \"Case 2, 100 x 100 Grid FDM Solution\". What is the temperature at the very center of the square grid in Case 2?**"
   ]
  },
  {
   "cell_type": "code",
   "execution_count": 16,
   "metadata": {},
   "outputs": [],
   "source": [
    "#Type your code and generate the contour plot for Case 1 here:\n"
   ]
  },
  {
   "cell_type": "code",
   "execution_count": 17,
   "metadata": {},
   "outputs": [
    {
     "ename": "NameError",
     "evalue": "name 'your_temperature_matrix_name_here' is not defined",
     "output_type": "error",
     "traceback": [
      "\u001b[0;31m---------------------------------------------------------------------------\u001b[0m",
      "\u001b[0;31mNameError\u001b[0m                                 Traceback (most recent call last)",
      "\u001b[0;32m<ipython-input-17-7b62d8fd23f3>\u001b[0m in \u001b[0;36m<module>\u001b[0;34m\u001b[0m\n\u001b[1;32m      1\u001b[0m \u001b[0;31m#Check your solution by comparing your temperature matrix to the correct answer\u001b[0m\u001b[0;34m\u001b[0m\u001b[0;34m\u001b[0m\u001b[0;34m\u001b[0m\u001b[0m\n\u001b[0;32m----> 2\u001b[0;31m \u001b[0mprint\u001b[0m\u001b[0;34m(\u001b[0m\u001b[0mcheck_soln\u001b[0m\u001b[0;34m(\u001b[0m\u001b[0myour_temperature_matrix_name_here\u001b[0m\u001b[0;34m,\u001b[0m \u001b[0mp2\u001b[0m\u001b[0;34m)\u001b[0m\u001b[0;34m)\u001b[0m\u001b[0;34m\u001b[0m\u001b[0;34m\u001b[0m\u001b[0m\n\u001b[0m",
      "\u001b[0;31mNameError\u001b[0m: name 'your_temperature_matrix_name_here' is not defined"
     ]
    }
   ],
   "source": [
    "#Check your solution by comparing your temperature matrix to the correct answer\n",
    "print(check_soln(your_temperature_matrix_name_here, p2))"
   ]
  },
  {
   "cell_type": "code",
   "execution_count": null,
   "metadata": {},
   "outputs": [],
   "source": []
  }
 ],
 "metadata": {
  "kernelspec": {
   "display_name": "Python 3",
   "language": "python",
   "name": "python3"
  },
  "language_info": {
   "codemirror_mode": {
    "name": "ipython",
    "version": 3
   },
   "file_extension": ".py",
   "mimetype": "text/x-python",
   "name": "python",
   "nbconvert_exporter": "python",
   "pygments_lexer": "ipython3",
   "version": "3.6.7"
  }
 },
 "nbformat": 4,
 "nbformat_minor": 2
}
