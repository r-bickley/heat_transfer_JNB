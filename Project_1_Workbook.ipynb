{
 "cells": [
  {
   "cell_type": "code",
   "execution_count": 32,
   "metadata": {},
   "outputs": [],
   "source": [
    "import numpy as np\n",
    "import matplotlib.pyplot as plt\n",
    "import math as m"
   ]
  },
  {
   "cell_type": "markdown",
   "metadata": {},
   "source": [
    "**Project 1, ME 3242**\n",
    "This project involves the study of a 2D steady state square (plate) with a thermal conductivity of: $$k = 100 \\frac{W}{mK}$$ and a height and width of 10 cm."
   ]
  },
  {
   "cell_type": "code",
   "execution_count": 33,
   "metadata": {},
   "outputs": [],
   "source": [
    "p1 = np.genfromtxt('proj_1_part_1.csv', delimiter=',')\n",
    "p2 = np.genfromtxt('proj_1_part_2.csv', delimiter=',')\n",
    "p3 = np.genfromtxt('proj_1_part_3.csv', delimiter=',')\n",
    "threshold = 0.01"
   ]
  },
  {
   "cell_type": "code",
   "execution_count": 34,
   "metadata": {},
   "outputs": [],
   "source": [
    "def check_soln(response,key):\n",
    "    if response.shape != key.shape:\n",
    "        print('The dimensions of your solution are incorrect. Please revisit the problem statement and confirm that you have chosen the correct mesh size.')\n",
    "    correct = True\n",
    "    for i in range(len(response)):\n",
    "        for j in range(len(response[i])):\n",
    "            if abs((response[i][j]-key[i][j])/key[i][j]) > threshold:\n",
    "                correct = False\n",
    "    if correct == True:\n",
    "        print('The solution is correct!')\n",
    "    else:\n",
    "        print('The solution has the correct dimensions, but one or more temperature values are incorrect.')"
   ]
  },
  {
   "cell_type": "markdown",
   "metadata": {},
   "source": [
    "**Part 1:** Use the 2D SS analytical equation in equation 4.19 of your textbook to plot contour lines (in Kelvin) for the plate when it has the following boundary conditions:\n",
    "\n",
    "    Top Wall - 1000K Prescribed Temperature\n",
    "    Left Wall - 350K Prescribed Temperature\n",
    "    Right Wall - 350K Prescribed Temperature\n",
    "    Bottom Wall - 350K Prescribed Temperature\n",
    "\n",
    "**Implement your code in the cell below, and use the check_soln() function to confirm that your answer is correct. Label your plot and title it “Analytical Solution”.**"
   ]
  },
  {
   "cell_type": "code",
   "execution_count": 26,
   "metadata": {},
   "outputs": [],
   "source": [
    "#Type your code and generate the contour plot for Part 1 here:\n"
   ]
  },
  {
   "cell_type": "code",
   "execution_count": 27,
   "metadata": {},
   "outputs": [
    {
     "ename": "NameError",
     "evalue": "name 'your_temperature_matrix_name_here' is not defined",
     "output_type": "error",
     "traceback": [
      "\u001b[0;31m---------------------------------------------------------------------------\u001b[0m",
      "\u001b[0;31mNameError\u001b[0m                                 Traceback (most recent call last)",
      "\u001b[0;32m<ipython-input-27-ae037e02eb68>\u001b[0m in \u001b[0;36m<module>\u001b[0;34m\u001b[0m\n\u001b[1;32m      1\u001b[0m \u001b[0;31m#Check your solution by comparing your temperature matrix to the correct answer\u001b[0m\u001b[0;34m\u001b[0m\u001b[0;34m\u001b[0m\u001b[0;34m\u001b[0m\u001b[0m\n\u001b[0;32m----> 2\u001b[0;31m \u001b[0mprint\u001b[0m\u001b[0;34m(\u001b[0m\u001b[0mcheck_soln\u001b[0m\u001b[0;34m(\u001b[0m\u001b[0myour_temperature_matrix_name_here\u001b[0m\u001b[0;34m,\u001b[0m \u001b[0mp1\u001b[0m\u001b[0;34m)\u001b[0m\u001b[0;34m)\u001b[0m\u001b[0;34m\u001b[0m\u001b[0;34m\u001b[0m\u001b[0m\n\u001b[0m",
      "\u001b[0;31mNameError\u001b[0m: name 'your_temperature_matrix_name_here' is not defined"
     ]
    }
   ],
   "source": [
    "#Check your solution by comparing your temperature matrix to the correct answer\n",
    "print(check_soln(your_temperature_matrix_name_here, p1))"
   ]
  },
  {
   "cell_type": "markdown",
   "metadata": {},
   "source": [
    "**Part 2:** Using the boundary conditions create a 16 point grid and write out the equations (Finite Difference Method) for nodes 6, 7, 10, and 11. Create a square grid. What are the temperatures at these nodes and how do they differ from your analytical solution?\n",
    "\n",
    "**Implement your code in the cell below, and use the check_soln() function to confirm that your answer is correct. Label your plot and title it \"4x4 Grid FDM Solution\" Calculate the percent error for nodes 6, 7, 10, and 11. Explain the code you used to solve the finite difference model.**"
   ]
  },
  {
   "cell_type": "code",
   "execution_count": 28,
   "metadata": {},
   "outputs": [],
   "source": [
    "#Type your code, generate the contour plot, and calculate the percent errors for Part 2 here:\n"
   ]
  },
  {
   "cell_type": "code",
   "execution_count": 29,
   "metadata": {},
   "outputs": [
    {
     "ename": "NameError",
     "evalue": "name 'your_temperature_matrix_name_here' is not defined",
     "output_type": "error",
     "traceback": [
      "\u001b[0;31m---------------------------------------------------------------------------\u001b[0m",
      "\u001b[0;31mNameError\u001b[0m                                 Traceback (most recent call last)",
      "\u001b[0;32m<ipython-input-29-7b62d8fd23f3>\u001b[0m in \u001b[0;36m<module>\u001b[0;34m\u001b[0m\n\u001b[1;32m      1\u001b[0m \u001b[0;31m#Check your solution by comparing your temperature matrix to the correct answer\u001b[0m\u001b[0;34m\u001b[0m\u001b[0;34m\u001b[0m\u001b[0;34m\u001b[0m\u001b[0m\n\u001b[0;32m----> 2\u001b[0;31m \u001b[0mprint\u001b[0m\u001b[0;34m(\u001b[0m\u001b[0mcheck_soln\u001b[0m\u001b[0;34m(\u001b[0m\u001b[0myour_temperature_matrix_name_here\u001b[0m\u001b[0;34m,\u001b[0m \u001b[0mp2\u001b[0m\u001b[0;34m)\u001b[0m\u001b[0;34m)\u001b[0m\u001b[0;34m\u001b[0m\u001b[0;34m\u001b[0m\u001b[0m\n\u001b[0m",
      "\u001b[0;31mNameError\u001b[0m: name 'your_temperature_matrix_name_here' is not defined"
     ]
    }
   ],
   "source": [
    "#Check your solution by comparing your temperature matrix to the correct answer\n",
    "print(check_soln(your_temperature_matrix_name_here, p2))"
   ]
  },
  {
   "cell_type": "markdown",
   "metadata": {},
   "source": [
    "**Part 3:** Now create a 100 x 100 point grid and use the Finite Difference Method to solve for the temperature distribution (note this means you do not have a square grid – this may change how you define your nodal equations). Plot contour lines (in Kelvin) for the plate with the specified boundary conditions.\n",
    "\n",
    "**Implement your code in the cell below, and use the check_soln() function to confirm that your answer is correct. Label your plot and title it \"100 x 100 Grid FDM Solution\"."
   ]
  },
  {
   "cell_type": "code",
   "execution_count": 30,
   "metadata": {},
   "outputs": [],
   "source": [
    "#Type your code and generate the contour plot for Part 3 here:\n"
   ]
  },
  {
   "cell_type": "code",
   "execution_count": 31,
   "metadata": {},
   "outputs": [
    {
     "ename": "NameError",
     "evalue": "name 'your_temperature_matrix_name_here' is not defined",
     "output_type": "error",
     "traceback": [
      "\u001b[0;31m---------------------------------------------------------------------------\u001b[0m",
      "\u001b[0;31mNameError\u001b[0m                                 Traceback (most recent call last)",
      "\u001b[0;32m<ipython-input-31-6963ee9d5aa8>\u001b[0m in \u001b[0;36m<module>\u001b[0;34m\u001b[0m\n\u001b[1;32m      1\u001b[0m \u001b[0;31m#Check your solution by comparing your temperature matrix to the correct answer\u001b[0m\u001b[0;34m\u001b[0m\u001b[0;34m\u001b[0m\u001b[0;34m\u001b[0m\u001b[0m\n\u001b[0;32m----> 2\u001b[0;31m \u001b[0mprint\u001b[0m\u001b[0;34m(\u001b[0m\u001b[0mcheck_soln\u001b[0m\u001b[0;34m(\u001b[0m\u001b[0myour_temperature_matrix_name_here\u001b[0m\u001b[0;34m,\u001b[0m \u001b[0mp3\u001b[0m\u001b[0;34m)\u001b[0m\u001b[0;34m)\u001b[0m\u001b[0;34m\u001b[0m\u001b[0;34m\u001b[0m\u001b[0m\n\u001b[0m",
      "\u001b[0;31mNameError\u001b[0m: name 'your_temperature_matrix_name_here' is not defined"
     ]
    }
   ],
   "source": [
    "#Check your solution by comparing your temperature matrix to the correct answer\n",
    "print(check_soln(your_temperature_matrix_name_here, p3))"
   ]
  }
 ],
 "metadata": {
  "kernelspec": {
   "display_name": "Python 3",
   "language": "python",
   "name": "python3"
  },
  "language_info": {
   "codemirror_mode": {
    "name": "ipython",
    "version": 3
   },
   "file_extension": ".py",
   "mimetype": "text/x-python",
   "name": "python",
   "nbconvert_exporter": "python",
   "pygments_lexer": "ipython3",
   "version": "3.6.7"
  }
 },
 "nbformat": 4,
 "nbformat_minor": 2
}
